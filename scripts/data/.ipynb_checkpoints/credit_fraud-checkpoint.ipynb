{
 "cells": [
  {
   "cell_type": "markdown",
   "metadata": {
    "_cell_guid": "4375c9a7-dbaf-a991-edde-3abb579f4041"
   },
   "source": [
    "**Credit Card fraud detection with RandomForetClassifier**\n",
    "------------------------------------------------------------------------\n",
    "\n",
    "The objective of this notebook is to predict as many fraudulent transactions as possible. This notebook uses sci-kit RandomForestClassifier to predict fraudulent transactions.  "
   ]
  },
  {
   "cell_type": "code",
   "execution_count": 1,
   "metadata": {
    "_cell_guid": "a75ae101-6ef8-c5f7-71b1-6c114a76abb9"
   },
   "outputs": [],
   "source": [
    "import numpy as np \n",
    "import pandas as pd\n",
    "from sklearn import metrics\n",
    "from sklearn.tree import DecisionTreeClassifier\n",
    "from sklearn.ensemble import AdaBoostClassifier,GradientBoostingClassifier,RandomForestClassifier\n",
    "from sklearn.model_selection import train_test_split\n",
    "from sklearn import linear_model, datasets\n",
    "from sklearn.linear_model import RandomizedLogisticRegression\n",
    "from sklearn.metrics import roc_curve, auc\n",
    "import matplotlib.pyplot as plt"
   ]
  },
  {
   "cell_type": "code",
   "execution_count": 2,
   "metadata": {
    "_cell_guid": "af13ca58-b4a9-b331-5bb4-4a42bce759ad"
   },
   "outputs": [],
   "source": [
    "#main_df=pd.read_csv(\"creditcard.csv\")\n",
    "main_df=pd.read_csv(\"../input/creditcard.csv\")\n",
    "main_df.head()\n",
    "feature_size = len(main_df.columns)\n",
    "class_index = feature_size -1 "
   ]
  },
  {
   "cell_type": "markdown",
   "metadata": {
    "_cell_guid": "fda83b62-ad76-a146-32f3-41c9b32c0da6"
   },
   "source": [
    "**Balancing data**"
   ]
  },
  {
   "cell_type": "code",
   "execution_count": 3,
   "metadata": {
    "_cell_guid": "c7307d52-c585-8e8b-08c6-7051fd57674a"
   },
   "outputs": [
    {
     "name": "stdout",
     "output_type": "stream",
     "text": [
      "Percentage of normal transactions                 : 0.5\n",
      "Percentage of fraudulent trasactions                : 0.5\n",
      "Total number of transactions in our new dataset : 984\n"
     ]
    }
   ],
   "source": [
    "fraud_raw = main_df[main_df['Class'] == 1]\n",
    "normal_raw = main_df[main_df['Class'] == 0]\n",
    "print (fraud_raw.size, normal_raw.size)\n",
    "\n",
    "# Undersample the normal transactions\n",
    "percentage = len(fraud_raw)/float(len(normal_raw))\n",
    "normal = normal_raw.sample(frac=percentage)\n",
    "fraud = fraud_raw\n",
    "cc_data = fraud.append(normal)\n",
    "\n",
    "print (\"Percentage of normal transactions                 :\", len(normal) / float(len(cc_data)))\n",
    "print (\"Percentage of fraudulent trasactions                :\", len(fraud_raw) / float(len(cc_data)))\n",
    "print (\"Total number of transactions in our new dataset :\", len(cc_data))"
   ]
  },
  {
   "cell_type": "code",
   "execution_count": 4,
   "metadata": {
    "_cell_guid": "4b986e45-e3e5-14f6-3875-e9911edd11ed"
   },
   "outputs": [
    {
     "name": "stdout",
     "output_type": "stream",
     "text": [
      "             precision    recall  f1-score   support\n",
      "\n",
      "        0.0       0.91      0.98      0.94       146\n",
      "        1.0       0.98      0.90      0.94       150\n",
      "\n",
      "avg / total       0.94      0.94      0.94       296\n",
      "\n",
      "[[143   3]\n",
      " [ 15 135]]\n",
      "AUC = 0.9397\n"
     ]
    },
    {
     "data": {
      "image/png": "[encoded data removed]",
      "text/plain": [
       "<matplotlib.figure.Figure at 0x7f7174696fd0>"
      ]
     },
     "metadata": {},
     "output_type": "display_data"
    }
   ],
   "source": [
    "reg_model = RandomForestClassifier(criterion='entropy',n_estimators=100)\n",
    "train_data,test_data = train_test_split(cc_data,test_size=0.30)\n",
    "train_matrix = train_data.as_matrix()\n",
    "x = train_matrix[:,range(0,class_index-1)]\n",
    "y=train_matrix[:,class_index]\n",
    "reg_model = reg_model.fit(x,y)\n",
    "\n",
    "test_matrix =test_data.as_matrix()\n",
    "test_x = test_matrix[:,range(0,class_index-1)]\n",
    "test_y=test_matrix[:,class_index]\n",
    "\n",
    "predicted = reg_model.predict(test_x)\n",
    "\n",
    "print(metrics.classification_report(test_y, predicted))\n",
    "print(metrics.confusion_matrix(test_y, predicted))\n",
    "false_positive_rate, true_positive_rate, thresholds = roc_curve(test_y, predicted)\n",
    "roc_auc = auc(false_positive_rate, true_positive_rate)\n",
    "print('AUC = %0.4f'% roc_auc)\n",
    "plt.title('Receiver Operating Characteristic')\n",
    "plt.plot(false_positive_rate, true_positive_rate, 'b',\n",
    "label='AUC = %0.2f'% roc_auc)\n",
    "plt.legend(loc='lower right')\n",
    "plt.plot([0,1],[0,1],'r--')\n",
    "plt.xlim([-0.1,1.2])\n",
    "plt.ylim([-0.1,1.2])\n",
    "plt.ylabel('True Positive Rate')\n",
    "plt.xlabel('False Positive Rate')\n",
    "plt.show()"
   ]
  },
  {
   "cell_type": "code",
   "execution_count": 5,
   "metadata": {
    "_cell_guid": "1d0f24ba-e0d0-b619-a74a-c75c6926ddab",
    "collapsed": true
   },
   "outputs": [],
   "source": []
  },
  {
   "cell_type": "markdown",
   "metadata": {
    "_cell_guid": "fb121194-7315-22ef-9989-3578e3da9415"
   },
   "source": [
    "**Acknowledgement**\n",
    "---------------\n",
    "\n",
    "I would like to acknowldge kanishkapsingh notebook, which gave me some insights on how to approach this problem: https://www.kaggle.com/kanishkapsingh2/d/dalpozz/creditcardfraud/naive-bayes-80-actual-fraud-detection\n",
    "This introduction to ROC curves also helped my understand how to interpret and test my results https://datamize.wordpress.com/2015/01/24/how-to-plot-a-roc-curve-in-scikit-learn/"
   ]
  },
  {
   "cell_type": "markdown",
   "metadata": {
    "_cell_guid": "bd464f8b-d59d-a868-19d2-12a4625dc35d"
   },
   "source": []
  },
  {
   "cell_type": "code",
   "execution_count": 5,
   "metadata": {
    "_cell_guid": "621d7006-0e01-1f28-0e1c-f096688ff856",
    "collapsed": true
   },
   "outputs": [],
   "source": []
  }
 ],
 "metadata": {
  "_change_revision": 5,
  "_is_fork": false,
  "kernelspec": {
   "display_name": "Python 3",
   "language": "python",
   "name": "python3"
  },
  "language_info": {
   "codemirror_mode": {
    "name": "ipython",
    "version": 3
   },
   "file_extension": ".py",
   "mimetype": "text/x-python",
   "name": "python",
   "nbconvert_exporter": "python",
   "pygments_lexer": "ipython3",
   "version": "3.5.2"
  }
 },
 "nbformat": 4,
 "nbformat_minor": 1
}
