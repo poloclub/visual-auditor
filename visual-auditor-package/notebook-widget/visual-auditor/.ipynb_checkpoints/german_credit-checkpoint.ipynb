{
 "cells": [
  {
   "cell_type": "markdown",
   "metadata": {},
   "source": [
    "# Visual Auditor Package Demo (German Credit Dataset)\n",
    "Author: David Munechika (david.munechika@gatech.edu)"
   ]
  },
  {
   "cell_type": "code",
   "execution_count": 1,
   "metadata": {},
   "outputs": [],
   "source": [
    "# Import packages\n",
    "import pandas as pd\n",
    "import numpy as np\n",
    "from sklearn.preprocessing import LabelEncoder\n",
    "from sklearn.ensemble import RandomForestClassifier\n",
    "from visual_auditor import SliceFinder\n",
    "\n",
    "# Import visual auditor module\n",
    "import visual_auditor"
   ]
  },
  {
   "cell_type": "code",
   "execution_count": 2,
   "metadata": {},
   "outputs": [
    {
     "name": "stdout",
     "output_type": "stream",
     "text": [
      "Checking Account ['little' 'moderate' 'rich'] [0 1 2]\n",
      "Housing ['free' 'own' 'rent'] [0 1 2]\n",
      "Purpose ['business' 'car' 'domestic appliances' 'education' 'furniture/equipment'\n",
      " 'radio/TV' 'repairs' 'vacation/others'] [0 1 2 3 4 5 6 7]\n",
      "Risk ['bad' 'good'] [0 1]\n",
      "Savings Account ['little' 'moderate' 'quite rich' 'rich'] [0 1 2 3]\n",
      "Sex ['female' 'male'] [0 1]\n"
     ]
    },
    {
     "data": {
      "text/plain": [
       "RandomForestClassifier(bootstrap=True, ccp_alpha=0.0, class_weight=None,\n",
       "                       criterion='gini', max_depth=5, max_features='auto',\n",
       "                       max_leaf_nodes=None, max_samples=None,\n",
       "                       min_impurity_decrease=0.0, min_impurity_split=None,\n",
       "                       min_samples_leaf=1, min_samples_split=2,\n",
       "                       min_weight_fraction_leaf=0.0, n_estimators=10,\n",
       "                       n_jobs=None, oob_score=False, random_state=None,\n",
       "                       verbose=0, warm_start=False)"
      ]
     },
     "execution_count": 2,
     "metadata": {},
     "output_type": "execute_result"
    }
   ],
   "source": [
    "# Load German Credit dataset\n",
    "german_credit_data = pd.read_csv(\n",
    "    \"data/german_credit_data.csv\",\n",
    "    names=[\n",
    "        \"Age\", \"Sex\", \"Job\", \"Housing\", \"Savings Account\", \"Checking Account\",\n",
    "        \"Credit Amount\", \"Duration\", \"Purpose\", \"Risk\"],\n",
    "        engine='python',\n",
    "        na_values=\"NA\")\n",
    "\n",
    "# Drop NA values\n",
    "german_credit_data = german_credit_data.dropna()\n",
    "\n",
    "# Bin numerical features\n",
    "# german_credit_data[\"Age\"] = pd.cut(german_credit_data[\"Age\"], 3, labels=[\"0\", \"1\", \"2\"])\n",
    "# german_credit_data[\"Credit Amount\"] = pd.cut(german_credit_data[\"Credit Amount\"], 3, labels=[\"0\", \"1\", \"2\"])\n",
    "# german_credit_data[\"Duration\"] = pd.cut(german_credit_data[\"Duration\"], 3, labels=[\"0\", \"1\", \"2\"])\n",
    "\n",
    "age_bins = np.histogram_bin_edges(german_credit_data[\"Age\"], bins='auto', range=None, weights=None)\n",
    "german_credit_data[\"Age\"] = pd.cut(german_credit_data[\"Age\"], age_bins, labels=[x for x in range(len(age_bins) - 1)], right=True, include_lowest=True)\n",
    "credit_amount_bins = np.histogram_bin_edges(german_credit_data[\"Credit Amount\"], bins='auto', range=None, weights=None)\n",
    "german_credit_data[\"Credit Amount\"] = pd.cut(german_credit_data[\"Credit Amount\"], credit_amount_bins, labels=[x for x in range(len(credit_amount_bins) - 1)], right=True, include_lowest=True)\n",
    "duration_bins = np.histogram_bin_edges(german_credit_data[\"Duration\"], bins='auto', range=None, weights=None)\n",
    "german_credit_data[\"Duration\"] = pd.cut(german_credit_data[\"Duration\"], duration_bins, labels=[x for x in range(len(duration_bins) - 1)], right=True, include_lowest=True)\n",
    "\n",
    "# Encode categorical features\n",
    "encoders = {}\n",
    "for column in german_credit_data.columns.difference([\"Age\", \"Credit Amount\", \"Duration\"]):\n",
    "    if german_credit_data.dtypes[column] == np.object:\n",
    "        le = LabelEncoder()\n",
    "        german_credit_data[column] = le.fit_transform(german_credit_data[column])\n",
    "        encoders[column] = le\n",
    "        print(column, le.classes_, le.transform(le.classes_))\n",
    "\n",
    "# Separate Target values\n",
    "X, y = german_credit_data[german_credit_data.columns.difference([\"Risk\"])], german_credit_data[\"Risk\"]\n",
    "\n",
    "# Train a classifier\n",
    "rfc = RandomForestClassifier(max_depth=5, n_estimators=10)\n",
    "rfc.fit(X, y)"
   ]
  },
  {
   "cell_type": "code",
   "execution_count": null,
   "metadata": {},
   "outputs": [],
   "source": [
    "# Generate the visual auditor for this model and dataset\n",
    "visual_auditor.find_slices_and_visualize(rfc, (X, y), k=100, epsilon=0.01, degree=2, max_workers=4)"
   ]
  },
  {
   "cell_type": "code",
   "execution_count": null,
   "metadata": {
    "scrolled": true
   },
   "outputs": [],
   "source": [
    "# Compare to the textual outputs of running SliceFinder in isolation\n",
    "sf = SliceFinder(rfc, (X, y))\n",
    "recommendations = sf.find_slice(k=20, epsilon=0.2, degree=2, max_workers=4)\n",
    "\n",
    "for s in recommendations:\n",
    "    print ('\\n=====================\\nSlice description:')\n",
    "    for k, v in list(s.filters.items()):\n",
    "        values = ''\n",
    "        if k in encoders:\n",
    "            le = encoders[k]\n",
    "            for v_ in v:\n",
    "                values += '%s '%(le.inverse_transform(v_)[0])\n",
    "        else:\n",
    "            for v_ in sorted(v, key=lambda x: x[0]):\n",
    "                if len(v_) > 1:\n",
    "                    values += '%s ~ %s'%(v_[0], v_[1])\n",
    "                else:\n",
    "                    values += '%s '%(v_[0])\n",
    "        print ('%s:%s'%(k, values))\n",
    "    print ('---------------------\\neffect_size: %s'%(s.effect_size))\n",
    "    print ('---------------------\\nmetric: %s'%(s.metric))\n",
    "    print ('size: %s'%(s.size))"
   ]
  }
 ],
 "metadata": {
  "interpreter": {
   "hash": "31f2aee4e71d21fbe5cf8b01ff0e069b9275f58929596ceb00d14d90e3e16cd6"
  },
  "kernelspec": {
   "display_name": "Python 3",
   "language": "python",
   "name": "python3"
  },
  "language_info": {
   "codemirror_mode": {
    "name": "ipython",
    "version": 3
   },
   "file_extension": ".py",
   "mimetype": "text/x-python",
   "name": "python",
   "nbconvert_exporter": "python",
   "pygments_lexer": "ipython3",
   "version": "3.7.6"
  }
 },
 "nbformat": 4,
 "nbformat_minor": 2
}
