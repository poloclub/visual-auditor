{
 "cells": [
  {
   "cell_type": "markdown",
   "metadata": {},
   "source": [
    "# Visual Auditor Package Demo\n",
    "Author: David Munechika (david.munechika@gatech.edu)"
   ]
  },
  {
   "cell_type": "code",
   "execution_count": 1,
   "metadata": {},
   "outputs": [
    {
     "name": "stdout",
     "output_type": "stream",
     "text": [
      "<!doctype html>\n",
      "<html lang=\"en\">\n",
      "  <head>\n",
      "    <meta charset=\"utf-8\">\n",
      "    <meta name=\"viewport\" content=\"width=device-width, initial-scale=1\" />\n",
      "    <title>Visual Auditor</title>\n",
      "  </head>\n",
      "  <body>\n",
      "    <noscript>\n",
      "      You need to enable JavaScript to run this app.\n",
      "    </noscript>\n",
      "    <div id=\"root\">\n",
      "        <h1>This is a test file</h1>\n",
      "    </div>\n",
      "  </body>\n",
      "</html>\n"
     ]
    },
    {
     "data": {
      "text/html": [
       "\n",
       "        <iframe\n",
       "            srcdoc=\"<!doctype html>\n",
       "<html lang=\"en\">\n",
       "  <head>\n",
       "    <meta charset=\"utf-8\">\n",
       "    <meta name=\"viewport\" content=\"width=device-width, initial-scale=1\" />\n",
       "    <title>Visual Auditor</title>\n",
       "  </head>\n",
       "  <body>\n",
       "    <noscript>\n",
       "      You need to enable JavaScript to run this app.\n",
       "    </noscript>\n",
       "    <div id=\"root\"></div>\n",
       "    <h1>This is a test file</h1>\n",
       "  </body>\n",
       "</html>\"\n",
       "            frameBorder=\"0\"\n",
       "            width=\"100%\"\n",
       "            height=\"1000px\"\n",
       "            id=\"visual-auditor-iframe-6485607\">\n",
       "        </iframe>\n",
       "    "
      ]
     },
     "metadata": {},
     "output_type": "display_data"
    }
   ],
   "source": [
    "import visualauditor\n",
    "\n",
    "visualauditor.visualize()"
   ]
  },
  {
   "cell_type": "code",
   "execution_count": null,
   "metadata": {},
   "outputs": [],
   "source": []
  }
 ],
 "metadata": {
  "interpreter": {
   "hash": "31f2aee4e71d21fbe5cf8b01ff0e069b9275f58929596ceb00d14d90e3e16cd6"
  },
  "kernelspec": {
   "display_name": "Python 3",
   "language": "python",
   "name": "python3"
  },
  "language_info": {
   "codemirror_mode": {
    "name": "ipython",
    "version": 3
   },
   "file_extension": ".py",
   "mimetype": "text/x-python",
   "name": "python",
   "nbconvert_exporter": "python",
   "pygments_lexer": "ipython3",
   "version": "3.7.6"
  }
 },
 "nbformat": 4,
 "nbformat_minor": 2
}
